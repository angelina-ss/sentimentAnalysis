{
 "cells": [
  {
   "cell_type": "code",
   "execution_count": 1,
   "metadata": {},
   "outputs": [
    {
     "data": {
      "text/html": [
       "<div>\n",
       "<style scoped>\n",
       "    .dataframe tbody tr th:only-of-type {\n",
       "        vertical-align: middle;\n",
       "    }\n",
       "\n",
       "    .dataframe tbody tr th {\n",
       "        vertical-align: top;\n",
       "    }\n",
       "\n",
       "    .dataframe thead th {\n",
       "        text-align: right;\n",
       "    }\n",
       "</style>\n",
       "<table border=\"1\" class=\"dataframe\">\n",
       "  <thead>\n",
       "    <tr style=\"text-align: right;\">\n",
       "      <th></th>\n",
       "      <th>Unnamed: 0</th>\n",
       "      <th>full_text</th>\n",
       "      <th>date</th>\n",
       "      <th>polarity</th>\n",
       "      <th>subjectivity</th>\n",
       "      <th>analysis</th>\n",
       "    </tr>\n",
       "  </thead>\n",
       "  <tbody>\n",
       "    <tr>\n",
       "      <th>0</th>\n",
       "      <td>0</td>\n",
       "      <td>manfaat penuh eh udah kasih admin fee yaudah f...</td>\n",
       "      <td>Thu Nov 12 17:27:57 +0000 2020</td>\n",
       "      <td>0.425000</td>\n",
       "      <td>0.525000</td>\n",
       "      <td>Positive</td>\n",
       "    </tr>\n",
       "    <tr>\n",
       "      <th>1</th>\n",
       "      <td>1</td>\n",
       "      <td>bank ga promosi gencar bank gurem kayak jenius...</td>\n",
       "      <td>Thu Nov 12 17:05:53 +0000 2020</td>\n",
       "      <td>0.016667</td>\n",
       "      <td>0.433333</td>\n",
       "      <td>Positive</td>\n",
       "    </tr>\n",
       "    <tr>\n",
       "      <th>2</th>\n",
       "      <td>2</td>\n",
       "      <td>nemu reddit banding fitur bank bebas biaya adm...</td>\n",
       "      <td>Thu Nov 12 15:55:42 +0000 2020</td>\n",
       "      <td>0.400000</td>\n",
       "      <td>0.800000</td>\n",
       "      <td>Positive</td>\n",
       "    </tr>\n",
       "    <tr>\n",
       "      <th>3</th>\n",
       "      <td>3</td>\n",
       "      <td>cimb niaga kah</td>\n",
       "      <td>Thu Nov 12 15:21:04 +0000 2020</td>\n",
       "      <td>0.000000</td>\n",
       "      <td>0.000000</td>\n",
       "      <td>Neutral</td>\n",
       "    </tr>\n",
       "    <tr>\n",
       "      <th>4</th>\n",
       "      <td>4</td>\n",
       "      <td>kantor cabang cimb niaga dekat bawa ktp asli n...</td>\n",
       "      <td>Thu Nov 12 15:20:18 +0000 2020</td>\n",
       "      <td>0.158333</td>\n",
       "      <td>0.383333</td>\n",
       "      <td>Positive</td>\n",
       "    </tr>\n",
       "    <tr>\n",
       "      <th>...</th>\n",
       "      <td>...</td>\n",
       "      <td>...</td>\n",
       "      <td>...</td>\n",
       "      <td>...</td>\n",
       "      <td>...</td>\n",
       "      <td>...</td>\n",
       "    </tr>\n",
       "    <tr>\n",
       "      <th>273</th>\n",
       "      <td>273</td>\n",
       "      <td>hai ada rujuk cimb malaysia cimb niaga indonesia</td>\n",
       "      <td>Wed Nov 04 06:02:03 +0000 2020</td>\n",
       "      <td>0.000000</td>\n",
       "      <td>0.000000</td>\n",
       "      <td>Neutral</td>\n",
       "    </tr>\n",
       "    <tr>\n",
       "      <th>274</th>\n",
       "      <td>274</td>\n",
       "      <td>selamat siang first people bayar langsung via ...</td>\n",
       "      <td>Wed Nov 04 05:47:56 +0000 2020</td>\n",
       "      <td>0.312500</td>\n",
       "      <td>0.383333</td>\n",
       "      <td>Positive</td>\n",
       "    </tr>\n",
       "    <tr>\n",
       "      <th>275</th>\n",
       "      <td>275</td>\n",
       "      <td>sen tokped bl trus dimasukin kai access krena ...</td>\n",
       "      <td>Wed Nov 04 05:47:25 +0000 2020</td>\n",
       "      <td>0.000000</td>\n",
       "      <td>0.000000</td>\n",
       "      <td>Neutral</td>\n",
       "    </tr>\n",
       "    <tr>\n",
       "      <th>276</th>\n",
       "      <td>276</td>\n",
       "      <td>biaya bayar tagih kartu kredit cimb niaga apli...</td>\n",
       "      <td>Wed Nov 04 05:13:09 +0000 2020</td>\n",
       "      <td>0.000000</td>\n",
       "      <td>0.000000</td>\n",
       "      <td>Neutral</td>\n",
       "    </tr>\n",
       "    <tr>\n",
       "      <th>277</th>\n",
       "      <td>277</td>\n",
       "      <td>diskon makan minum nanny pavillon credit card ...</td>\n",
       "      <td>Wed Nov 04 03:45:00 +0000 2020</td>\n",
       "      <td>0.000000</td>\n",
       "      <td>0.000000</td>\n",
       "      <td>Neutral</td>\n",
       "    </tr>\n",
       "  </tbody>\n",
       "</table>\n",
       "<p>278 rows × 6 columns</p>\n",
       "</div>"
      ],
      "text/plain": [
       "     Unnamed: 0                                          full_text  \\\n",
       "0             0  manfaat penuh eh udah kasih admin fee yaudah f...   \n",
       "1             1  bank ga promosi gencar bank gurem kayak jenius...   \n",
       "2             2  nemu reddit banding fitur bank bebas biaya adm...   \n",
       "3             3                                     cimb niaga kah   \n",
       "4             4  kantor cabang cimb niaga dekat bawa ktp asli n...   \n",
       "..          ...                                                ...   \n",
       "273         273   hai ada rujuk cimb malaysia cimb niaga indonesia   \n",
       "274         274  selamat siang first people bayar langsung via ...   \n",
       "275         275  sen tokped bl trus dimasukin kai access krena ...   \n",
       "276         276  biaya bayar tagih kartu kredit cimb niaga apli...   \n",
       "277         277  diskon makan minum nanny pavillon credit card ...   \n",
       "\n",
       "                               date  polarity  subjectivity  analysis  \n",
       "0    Thu Nov 12 17:27:57 +0000 2020  0.425000      0.525000  Positive  \n",
       "1    Thu Nov 12 17:05:53 +0000 2020  0.016667      0.433333  Positive  \n",
       "2    Thu Nov 12 15:55:42 +0000 2020  0.400000      0.800000  Positive  \n",
       "3    Thu Nov 12 15:21:04 +0000 2020  0.000000      0.000000   Neutral  \n",
       "4    Thu Nov 12 15:20:18 +0000 2020  0.158333      0.383333  Positive  \n",
       "..                              ...       ...           ...       ...  \n",
       "273  Wed Nov 04 06:02:03 +0000 2020  0.000000      0.000000   Neutral  \n",
       "274  Wed Nov 04 05:47:56 +0000 2020  0.312500      0.383333  Positive  \n",
       "275  Wed Nov 04 05:47:25 +0000 2020  0.000000      0.000000   Neutral  \n",
       "276  Wed Nov 04 05:13:09 +0000 2020  0.000000      0.000000   Neutral  \n",
       "277  Wed Nov 04 03:45:00 +0000 2020  0.000000      0.000000   Neutral  \n",
       "\n",
       "[278 rows x 6 columns]"
      ]
     },
     "execution_count": 1,
     "metadata": {},
     "output_type": "execute_result"
    }
   ],
   "source": [
    "import pandas\n",
    "tweet_sentiment = pandas.read_csv('tweet-clean-labeled4.csv')\n",
    "tweet_sentiment"
   ]
  },
  {
   "cell_type": "code",
   "execution_count": 2,
   "metadata": {},
   "outputs": [
    {
     "data": {
      "image/png": "[encoded data removed]",
      "text/plain": [
       "<Figure size 432x288 with 1 Axes>"
      ]
     },
     "metadata": {
      "needs_background": "light"
     },
     "output_type": "display_data"
    }
   ],
   "source": [
    "import matplotlib.pyplot as plt\n",
    "\n",
    "counts = tweet_sentiment.groupby('analysis').polarity.count()\n",
    "counts = counts.sort_values(ascending=False)\n",
    "\n",
    "fig = plt.figure(figsize=(6,4))\n",
    "counts.plot.barh(ylim=0).invert_yaxis()"
   ]
  },
  {
   "cell_type": "markdown",
   "metadata": {},
   "source": [
    "### Mengambil data saham tanggal 4-12 November 2020, sesuai range tweet yang diambil dan dihitung sentimennya."
   ]
  },
  {
   "cell_type": "code",
   "execution_count": 3,
   "metadata": {},
   "outputs": [
    {
     "name": "stdout",
     "output_type": "stream",
     "text": [
      "Requirement already satisfied: pandas_datareader in d:\\anaconda3\\lib\\site-packages (0.9.0)\n",
      "Requirement already satisfied: requests>=2.19.0 in d:\\anaconda3\\lib\\site-packages (from pandas_datareader) (2.24.0)\n",
      "Requirement already satisfied: lxml in d:\\anaconda3\\lib\\site-packages (from pandas_datareader) (4.5.2)\n",
      "Requirement already satisfied: pandas>=0.23 in d:\\anaconda3\\lib\\site-packages (from pandas_datareader) (1.0.5)\n",
      "Requirement already satisfied: chardet<4,>=3.0.2 in d:\\anaconda3\\lib\\site-packages (from requests>=2.19.0->pandas_datareader) (3.0.4)\n",
      "Requirement already satisfied: urllib3!=1.25.0,!=1.25.1,<1.26,>=1.21.1 in d:\\anaconda3\\lib\\site-packages (from requests>=2.19.0->pandas_datareader) (1.25.9)\n",
      "Requirement already satisfied: idna<3,>=2.5 in d:\\anaconda3\\lib\\site-packages (from requests>=2.19.0->pandas_datareader) (2.10)\n",
      "Requirement already satisfied: certifi>=2017.4.17 in d:\\anaconda3\\lib\\site-packages (from requests>=2.19.0->pandas_datareader) (2020.6.20)\n",
      "Requirement already satisfied: python-dateutil>=2.6.1 in d:\\anaconda3\\lib\\site-packages (from pandas>=0.23->pandas_datareader) (2.8.1)\n",
      "Requirement already satisfied: numpy>=1.13.3 in d:\\anaconda3\\lib\\site-packages (from pandas>=0.23->pandas_datareader) (1.18.5)\n",
      "Requirement already satisfied: pytz>=2017.2 in d:\\anaconda3\\lib\\site-packages (from pandas>=0.23->pandas_datareader) (2020.1)\n",
      "Requirement already satisfied: six>=1.5 in d:\\anaconda3\\lib\\site-packages (from python-dateutil>=2.6.1->pandas>=0.23->pandas_datareader) (1.15.0)\n"
     ]
    }
   ],
   "source": [
    "!pip install pandas_datareader"
   ]
  },
  {
   "cell_type": "code",
   "execution_count": 4,
   "metadata": {},
   "outputs": [
    {
     "name": "stdout",
     "output_type": "stream",
     "text": [
      "Masukkan Kode Saham? BNGA\n",
      "Dari Tanggal? (yyyy-mm-dd) 2020-11-04\n",
      "Sampai Tanggal? (yyyy-mm-dd) 2020-11-12\n"
     ]
    }
   ],
   "source": [
    "## sumber: https://medium.com/@a_dittt/cara-menghitung-return-saham-harian-menggunakan-python-cf6bf61939c5\n",
    "import pandas_datareader as pdr\n",
    "import datetime\n",
    "ticker = str(input(\"Masukkan Kode Saham? \"))\n",
    "\n",
    "if not \".JK\" in ticker:\n",
    "    ticker += \".JK\"\n",
    "    start = str(input(\"Dari Tanggal? (yyyy-mm-dd) \"))\n",
    "    end = str(input(\"Sampai Tanggal? (yyyy-mm-dd) \"))\n",
    "    stockprice = pdr.data.get_data_yahoo(ticker, start, end)\n",
    "    stockpricelabel = (ticker + \"_\" + \"sampai\" + \"_\" + end)\n",
    "    stockprice.to_csv(stockpricelabel + \".csv\")"
   ]
  },
  {
   "cell_type": "code",
   "execution_count": 4,
   "metadata": {},
   "outputs": [
    {
     "data": {
      "text/html": [
       "<div>\n",
       "<style scoped>\n",
       "    .dataframe tbody tr th:only-of-type {\n",
       "        vertical-align: middle;\n",
       "    }\n",
       "\n",
       "    .dataframe tbody tr th {\n",
       "        vertical-align: top;\n",
       "    }\n",
       "\n",
       "    .dataframe thead th {\n",
       "        text-align: right;\n",
       "    }\n",
       "</style>\n",
       "<table border=\"1\" class=\"dataframe\">\n",
       "  <thead>\n",
       "    <tr style=\"text-align: right;\">\n",
       "      <th></th>\n",
       "      <th>Date</th>\n",
       "      <th>High</th>\n",
       "      <th>Low</th>\n",
       "      <th>Open</th>\n",
       "      <th>Close</th>\n",
       "      <th>Volume</th>\n",
       "      <th>Adj Close</th>\n",
       "    </tr>\n",
       "  </thead>\n",
       "  <tbody>\n",
       "    <tr>\n",
       "      <th>0</th>\n",
       "      <td>2020-11-04</td>\n",
       "      <td>765</td>\n",
       "      <td>745</td>\n",
       "      <td>755</td>\n",
       "      <td>745</td>\n",
       "      <td>4541900</td>\n",
       "      <td>745</td>\n",
       "    </tr>\n",
       "    <tr>\n",
       "      <th>1</th>\n",
       "      <td>2020-11-05</td>\n",
       "      <td>770</td>\n",
       "      <td>750</td>\n",
       "      <td>755</td>\n",
       "      <td>765</td>\n",
       "      <td>3251500</td>\n",
       "      <td>765</td>\n",
       "    </tr>\n",
       "    <tr>\n",
       "      <th>2</th>\n",
       "      <td>2020-11-06</td>\n",
       "      <td>795</td>\n",
       "      <td>760</td>\n",
       "      <td>770</td>\n",
       "      <td>785</td>\n",
       "      <td>8840400</td>\n",
       "      <td>785</td>\n",
       "    </tr>\n",
       "    <tr>\n",
       "      <th>3</th>\n",
       "      <td>2020-11-09</td>\n",
       "      <td>820</td>\n",
       "      <td>785</td>\n",
       "      <td>800</td>\n",
       "      <td>790</td>\n",
       "      <td>7735200</td>\n",
       "      <td>790</td>\n",
       "    </tr>\n",
       "    <tr>\n",
       "      <th>4</th>\n",
       "      <td>2020-11-10</td>\n",
       "      <td>810</td>\n",
       "      <td>790</td>\n",
       "      <td>800</td>\n",
       "      <td>805</td>\n",
       "      <td>10685800</td>\n",
       "      <td>805</td>\n",
       "    </tr>\n",
       "    <tr>\n",
       "      <th>5</th>\n",
       "      <td>2020-11-11</td>\n",
       "      <td>815</td>\n",
       "      <td>800</td>\n",
       "      <td>810</td>\n",
       "      <td>805</td>\n",
       "      <td>6279000</td>\n",
       "      <td>805</td>\n",
       "    </tr>\n",
       "    <tr>\n",
       "      <th>6</th>\n",
       "      <td>2020-11-12</td>\n",
       "      <td>810</td>\n",
       "      <td>795</td>\n",
       "      <td>805</td>\n",
       "      <td>800</td>\n",
       "      <td>2583100</td>\n",
       "      <td>800</td>\n",
       "    </tr>\n",
       "  </tbody>\n",
       "</table>\n",
       "</div>"
      ],
      "text/plain": [
       "         Date  High  Low  Open  Close    Volume  Adj Close\n",
       "0  2020-11-04   765  745   755    745   4541900        745\n",
       "1  2020-11-05   770  750   755    765   3251500        765\n",
       "2  2020-11-06   795  760   770    785   8840400        785\n",
       "3  2020-11-09   820  785   800    790   7735200        790\n",
       "4  2020-11-10   810  790   800    805  10685800        805\n",
       "5  2020-11-11   815  800   810    805   6279000        805\n",
       "6  2020-11-12   810  795   805    800   2583100        800"
      ]
     },
     "execution_count": 4,
     "metadata": {},
     "output_type": "execute_result"
    }
   ],
   "source": [
    "stock_price = pandas.read_csv('BNGA.JK_sampai_2020-11-12.csv')\n",
    "stock_price"
   ]
  },
  {
   "cell_type": "code",
   "execution_count": 5,
   "metadata": {},
   "outputs": [
    {
     "name": "stdout",
     "output_type": "stream",
     "text": [
      "0         NaN\n",
      "1    0.026846\n",
      "2    0.026144\n",
      "3    0.006369\n",
      "4    0.018987\n",
      "5    0.000000\n",
      "6   -0.006211\n",
      "Name: Close, dtype: float64\n"
     ]
    }
   ],
   "source": [
    "return_stock = stock_price['Close'].pct_change()\n",
    "print(return_stock)"
   ]
  },
  {
   "cell_type": "code",
   "execution_count": 6,
   "metadata": {},
   "outputs": [],
   "source": [
    "return_harian = return_stock.mean()"
   ]
  },
  {
   "cell_type": "code",
   "execution_count": 7,
   "metadata": {},
   "outputs": [
    {
     "name": "stdout",
     "output_type": "stream",
     "text": [
      "1.2%\n"
     ]
    }
   ],
   "source": [
    "print(str(round(return_harian * 100, 2)) + '%')"
   ]
  },
  {
   "cell_type": "code",
   "execution_count": 8,
   "metadata": {},
   "outputs": [
    {
     "data": {
      "image/png": "[encoded data removed]",
      "text/plain": [
       "<Figure size 432x288 with 1 Axes>"
      ]
     },
     "metadata": {
      "needs_background": "light"
     },
     "output_type": "display_data"
    }
   ],
   "source": [
    "import matplotlib.pyplot as plt\n",
    "plt.plot((tweet_sentiment['polarity'].values.tolist()))\n",
    "plt.title('CIMB Niaga Tweet Sentiment')\n",
    "plt.ylabel('Sentiment Score')\n",
    "plt.xlabel('Tweet Count')\n",
    "plt.show()"
   ]
  },
  {
   "cell_type": "code",
   "execution_count": 9,
   "metadata": {},
   "outputs": [],
   "source": [
    "date_list = []\n",
    "\n",
    "date_list.append(tweet_sentiment['date'].tolist())"
   ]
  },
  {
   "cell_type": "code",
   "execution_count": 10,
   "metadata": {},
   "outputs": [],
   "source": [
    "from datetime import datetime\n",
    "import re\n",
    "import string\n",
    "\n",
    "tweet_date_list = []\n",
    "\n",
    "for i in date_list[0]:\n",
    "    x = str(i)\n",
    "    x = re.sub(r'[+]+', '', x)\n",
    "    x = re.sub(r'\\b(' + ' 0000' + r')\\b', '', x)\n",
    "    x = re.sub(r'\\b([0-9][0-9]:[0-9][0-9]:[0-9][0-9]+' + r' )\\b', '', x)\n",
    "    x = re.sub(r'\\b(' + '^[\\s\\S]{0,4}' + r')\\b', '', x)\n",
    "    x = re.sub(r'\\b(' + 'Nov' + r')\\b', '11', x)\n",
    "    x = re.split(\"\\s\", x)\n",
    "    x = \"-\".join(x)\n",
    "\n",
    "#     print(x)\n",
    "    tweet_date = datetime.strptime(x, '%m-%d-%Y').strftime('%Y-%m-%d')\n",
    "    tweet_date_list.append(tweet_date)"
   ]
  },
  {
   "cell_type": "code",
   "execution_count": 11,
   "metadata": {},
   "outputs": [
    {
     "data": {
      "text/plain": [
       "list"
      ]
     },
     "execution_count": 11,
     "metadata": {},
     "output_type": "execute_result"
    }
   ],
   "source": [
    "type(tweet_date_list)"
   ]
  },
  {
   "cell_type": "code",
   "execution_count": 12,
   "metadata": {},
   "outputs": [
    {
     "data": {
      "text/html": [
       "<div>\n",
       "<style scoped>\n",
       "    .dataframe tbody tr th:only-of-type {\n",
       "        vertical-align: middle;\n",
       "    }\n",
       "\n",
       "    .dataframe tbody tr th {\n",
       "        vertical-align: top;\n",
       "    }\n",
       "\n",
       "    .dataframe thead th {\n",
       "        text-align: right;\n",
       "    }\n",
       "</style>\n",
       "<table border=\"1\" class=\"dataframe\">\n",
       "  <thead>\n",
       "    <tr style=\"text-align: right;\">\n",
       "      <th></th>\n",
       "      <th>date</th>\n",
       "      <th>polarity</th>\n",
       "    </tr>\n",
       "  </thead>\n",
       "  <tbody>\n",
       "    <tr>\n",
       "      <th>0</th>\n",
       "      <td>2020-11-12</td>\n",
       "      <td>0.425000</td>\n",
       "    </tr>\n",
       "    <tr>\n",
       "      <th>1</th>\n",
       "      <td>2020-11-12</td>\n",
       "      <td>0.016667</td>\n",
       "    </tr>\n",
       "    <tr>\n",
       "      <th>2</th>\n",
       "      <td>2020-11-12</td>\n",
       "      <td>0.400000</td>\n",
       "    </tr>\n",
       "    <tr>\n",
       "      <th>3</th>\n",
       "      <td>2020-11-12</td>\n",
       "      <td>0.000000</td>\n",
       "    </tr>\n",
       "    <tr>\n",
       "      <th>4</th>\n",
       "      <td>2020-11-12</td>\n",
       "      <td>0.158333</td>\n",
       "    </tr>\n",
       "    <tr>\n",
       "      <th>...</th>\n",
       "      <td>...</td>\n",
       "      <td>...</td>\n",
       "    </tr>\n",
       "    <tr>\n",
       "      <th>273</th>\n",
       "      <td>2020-11-04</td>\n",
       "      <td>0.000000</td>\n",
       "    </tr>\n",
       "    <tr>\n",
       "      <th>274</th>\n",
       "      <td>2020-11-04</td>\n",
       "      <td>0.312500</td>\n",
       "    </tr>\n",
       "    <tr>\n",
       "      <th>275</th>\n",
       "      <td>2020-11-04</td>\n",
       "      <td>0.000000</td>\n",
       "    </tr>\n",
       "    <tr>\n",
       "      <th>276</th>\n",
       "      <td>2020-11-04</td>\n",
       "      <td>0.000000</td>\n",
       "    </tr>\n",
       "    <tr>\n",
       "      <th>277</th>\n",
       "      <td>2020-11-04</td>\n",
       "      <td>0.000000</td>\n",
       "    </tr>\n",
       "  </tbody>\n",
       "</table>\n",
       "<p>278 rows × 2 columns</p>\n",
       "</div>"
      ],
      "text/plain": [
       "           date  polarity\n",
       "0    2020-11-12  0.425000\n",
       "1    2020-11-12  0.016667\n",
       "2    2020-11-12  0.400000\n",
       "3    2020-11-12  0.000000\n",
       "4    2020-11-12  0.158333\n",
       "..          ...       ...\n",
       "273  2020-11-04  0.000000\n",
       "274  2020-11-04  0.312500\n",
       "275  2020-11-04  0.000000\n",
       "276  2020-11-04  0.000000\n",
       "277  2020-11-04  0.000000\n",
       "\n",
       "[278 rows x 2 columns]"
      ]
     },
     "execution_count": 12,
     "metadata": {},
     "output_type": "execute_result"
    }
   ],
   "source": [
    "my_df = pandas.DataFrame(tweet_date_list)\n",
    "my_df['polarity'] = tweet_sentiment['polarity']\n",
    "my_df.rename(columns={0: 'date'})"
   ]
  },
  {
   "cell_type": "code",
   "execution_count": 13,
   "metadata": {},
   "outputs": [
    {
     "data": {
      "text/html": [
       "<div>\n",
       "<style scoped>\n",
       "    .dataframe tbody tr th:only-of-type {\n",
       "        vertical-align: middle;\n",
       "    }\n",
       "\n",
       "    .dataframe tbody tr th {\n",
       "        vertical-align: top;\n",
       "    }\n",
       "\n",
       "    .dataframe thead th {\n",
       "        text-align: right;\n",
       "    }\n",
       "</style>\n",
       "<table border=\"1\" class=\"dataframe\">\n",
       "  <thead>\n",
       "    <tr style=\"text-align: right;\">\n",
       "      <th></th>\n",
       "      <th>date</th>\n",
       "      <th>polarity</th>\n",
       "    </tr>\n",
       "  </thead>\n",
       "  <tbody>\n",
       "    <tr>\n",
       "      <th>0</th>\n",
       "      <td>2020-11-04</td>\n",
       "      <td>-0.012500</td>\n",
       "    </tr>\n",
       "    <tr>\n",
       "      <th>1</th>\n",
       "      <td>2020-11-05</td>\n",
       "      <td>0.108687</td>\n",
       "    </tr>\n",
       "    <tr>\n",
       "      <th>2</th>\n",
       "      <td>2020-11-06</td>\n",
       "      <td>0.091478</td>\n",
       "    </tr>\n",
       "    <tr>\n",
       "      <th>3</th>\n",
       "      <td>2020-11-07</td>\n",
       "      <td>0.050029</td>\n",
       "    </tr>\n",
       "    <tr>\n",
       "      <th>4</th>\n",
       "      <td>2020-11-08</td>\n",
       "      <td>-0.141912</td>\n",
       "    </tr>\n",
       "    <tr>\n",
       "      <th>5</th>\n",
       "      <td>2020-11-09</td>\n",
       "      <td>0.074539</td>\n",
       "    </tr>\n",
       "    <tr>\n",
       "      <th>6</th>\n",
       "      <td>2020-11-10</td>\n",
       "      <td>0.137090</td>\n",
       "    </tr>\n",
       "    <tr>\n",
       "      <th>7</th>\n",
       "      <td>2020-11-11</td>\n",
       "      <td>0.085778</td>\n",
       "    </tr>\n",
       "    <tr>\n",
       "      <th>8</th>\n",
       "      <td>2020-11-12</td>\n",
       "      <td>0.180233</td>\n",
       "    </tr>\n",
       "  </tbody>\n",
       "</table>\n",
       "</div>"
      ],
      "text/plain": [
       "         date  polarity\n",
       "0  2020-11-04 -0.012500\n",
       "1  2020-11-05  0.108687\n",
       "2  2020-11-06  0.091478\n",
       "3  2020-11-07  0.050029\n",
       "4  2020-11-08 -0.141912\n",
       "5  2020-11-09  0.074539\n",
       "6  2020-11-10  0.137090\n",
       "7  2020-11-11  0.085778\n",
       "8  2020-11-12  0.180233"
      ]
     },
     "execution_count": 13,
     "metadata": {},
     "output_type": "execute_result"
    }
   ],
   "source": [
    "grouped_df = my_df.groupby(my_df[0])\n",
    "\n",
    "mean_df = grouped_df.mean()\n",
    "\n",
    "mean_df = mean_df.reset_index()\n",
    "mean_df\n",
    "mean_df.rename(columns={0: 'date'})"
   ]
  },
  {
   "cell_type": "code",
   "execution_count": 14,
   "metadata": {},
   "outputs": [
    {
     "data": {
      "image/png": "[encoded data removed]",
      "text/plain": [
       "<Figure size 432x288 with 1 Axes>"
      ]
     },
     "metadata": {
      "needs_background": "light"
     },
     "output_type": "display_data"
    }
   ],
   "source": [
    "plt.plot(stock_price['Date'], (stock_price['Close'].values.tolist()))\n",
    "plt.title('CIMB Niaga Stock Price')\n",
    "plt.ylabel('Stock Price')\n",
    "plt.xlabel('Day')\n",
    "plt.show()"
   ]
  },
  {
   "cell_type": "code",
   "execution_count": 15,
   "metadata": {},
   "outputs": [
    {
     "data": {
      "image/png": "[encoded data removed]",
      "text/plain": [
       "<Figure size 432x288 with 1 Axes>"
      ]
     },
     "metadata": {
      "needs_background": "light"
     },
     "output_type": "display_data"
    }
   ],
   "source": [
    "plt.plot(mean_df[0].values.tolist(), (mean_df['polarity'].values.tolist()))\n",
    "plt.title('CIMB Niaga Tweet Sentiment')\n",
    "plt.ylabel('Polarity')\n",
    "plt.xlabel('Day')\n",
    "plt.show()"
   ]
  },
  {
   "cell_type": "code",
   "execution_count": 16,
   "metadata": {},
   "outputs": [],
   "source": [
    "corr = pandas.merge(\n",
    "    mean_df,\n",
    "    stock_price,\n",
    "    left_on=[0],\n",
    "    right_on=['Date']\n",
    ")"
   ]
  },
  {
   "cell_type": "code",
   "execution_count": 17,
   "metadata": {},
   "outputs": [
    {
     "data": {
      "text/html": [
       "<div>\n",
       "<style scoped>\n",
       "    .dataframe tbody tr th:only-of-type {\n",
       "        vertical-align: middle;\n",
       "    }\n",
       "\n",
       "    .dataframe tbody tr th {\n",
       "        vertical-align: top;\n",
       "    }\n",
       "\n",
       "    .dataframe thead th {\n",
       "        text-align: right;\n",
       "    }\n",
       "</style>\n",
       "<table border=\"1\" class=\"dataframe\">\n",
       "  <thead>\n",
       "    <tr style=\"text-align: right;\">\n",
       "      <th></th>\n",
       "      <th>Polarity</th>\n",
       "      <th>Date</th>\n",
       "      <th>Close</th>\n",
       "    </tr>\n",
       "  </thead>\n",
       "  <tbody>\n",
       "    <tr>\n",
       "      <th>0</th>\n",
       "      <td>-0.012500</td>\n",
       "      <td>2020-11-04</td>\n",
       "      <td>745</td>\n",
       "    </tr>\n",
       "    <tr>\n",
       "      <th>1</th>\n",
       "      <td>0.108687</td>\n",
       "      <td>2020-11-05</td>\n",
       "      <td>765</td>\n",
       "    </tr>\n",
       "    <tr>\n",
       "      <th>2</th>\n",
       "      <td>0.091478</td>\n",
       "      <td>2020-11-06</td>\n",
       "      <td>785</td>\n",
       "    </tr>\n",
       "    <tr>\n",
       "      <th>3</th>\n",
       "      <td>0.074539</td>\n",
       "      <td>2020-11-09</td>\n",
       "      <td>790</td>\n",
       "    </tr>\n",
       "    <tr>\n",
       "      <th>4</th>\n",
       "      <td>0.137090</td>\n",
       "      <td>2020-11-10</td>\n",
       "      <td>805</td>\n",
       "    </tr>\n",
       "    <tr>\n",
       "      <th>5</th>\n",
       "      <td>0.085778</td>\n",
       "      <td>2020-11-11</td>\n",
       "      <td>805</td>\n",
       "    </tr>\n",
       "    <tr>\n",
       "      <th>6</th>\n",
       "      <td>0.180233</td>\n",
       "      <td>2020-11-12</td>\n",
       "      <td>800</td>\n",
       "    </tr>\n",
       "  </tbody>\n",
       "</table>\n",
       "</div>"
      ],
      "text/plain": [
       "   Polarity        Date  Close\n",
       "0 -0.012500  2020-11-04    745\n",
       "1  0.108687  2020-11-05    765\n",
       "2  0.091478  2020-11-06    785\n",
       "3  0.074539  2020-11-09    790\n",
       "4  0.137090  2020-11-10    805\n",
       "5  0.085778  2020-11-11    805\n",
       "6  0.180233  2020-11-12    800"
      ]
     },
     "execution_count": 17,
     "metadata": {},
     "output_type": "execute_result"
    }
   ],
   "source": [
    "corr_new = corr.drop(columns=[0, 'High', 'Low', 'Open', 'Volume', 'Adj Close'])\n",
    "corr_new.columns = ['Polarity', 'Date', 'Close']\n",
    "corr_new"
   ]
  },
  {
   "cell_type": "code",
   "execution_count": 18,
   "metadata": {},
   "outputs": [
    {
     "data": {
      "text/html": [
       "<div>\n",
       "<style scoped>\n",
       "    .dataframe tbody tr th:only-of-type {\n",
       "        vertical-align: middle;\n",
       "    }\n",
       "\n",
       "    .dataframe tbody tr th {\n",
       "        vertical-align: top;\n",
       "    }\n",
       "\n",
       "    .dataframe thead th {\n",
       "        text-align: right;\n",
       "    }\n",
       "</style>\n",
       "<table border=\"1\" class=\"dataframe\">\n",
       "  <thead>\n",
       "    <tr style=\"text-align: right;\">\n",
       "      <th></th>\n",
       "      <th>Polarity</th>\n",
       "      <th>Close</th>\n",
       "    </tr>\n",
       "  </thead>\n",
       "  <tbody>\n",
       "    <tr>\n",
       "      <th>Polarity</th>\n",
       "      <td>1.00000</td>\n",
       "      <td>0.29277</td>\n",
       "    </tr>\n",
       "    <tr>\n",
       "      <th>Close</th>\n",
       "      <td>0.29277</td>\n",
       "      <td>1.00000</td>\n",
       "    </tr>\n",
       "  </tbody>\n",
       "</table>\n",
       "</div>"
      ],
      "text/plain": [
       "          Polarity    Close\n",
       "Polarity   1.00000  0.29277\n",
       "Close      0.29277  1.00000"
      ]
     },
     "execution_count": 18,
     "metadata": {},
     "output_type": "execute_result"
    }
   ],
   "source": [
    "kendalcorr = corr_new.corr(method='kendall')\n",
    "kendalcorr"
   ]
  },
  {
   "cell_type": "code",
   "execution_count": 19,
   "metadata": {},
   "outputs": [
    {
     "data": {
      "image/png": "[encoded data removed]",
      "text/plain": [
       "<Figure size 576x360 with 1 Axes>"
      ]
     },
     "metadata": {
      "needs_background": "light"
     },
     "output_type": "display_data"
    }
   ],
   "source": [
    "plt.figure(figsize=(8,5))\n",
    "x1 = corr_new['Date']\n",
    "y1 = corr_new['Polarity']*10000\n",
    "plt.plot(x1, y1, label = \"Sentiment Score\")\n",
    "x2 = corr_new['Date']\n",
    "y2 = corr_new['Close']\n",
    "plt.plot(x2, y2, label = \"Stock Price\")\n",
    "plt.xlabel('Date')\n",
    "plt.ylabel('Score/Price')\n",
    "plt.title('Perbandingan Sentiment Score dan Stock Price CIMB Niaga')\n",
    "plt.legend()\n",
    "plt.show()"
   ]
  },
  {
   "cell_type": "markdown",
   "metadata": {},
   "source": [
    "Correlation (Pearson, Kendall, Spearman)\n",
    "\n",
    "Correlation is a bivariate analysis that measures the strength of association between two variables and the direction of the relationship.  In terms of the strength of relationship, the value of the correlation coefficient varies between +1 and -1.  A value of ± 1 indicates a perfect degree of association between the two variables.  As the correlation coefficient value goes towards 0, the relationship between the two variables will be weaker.  The direction of the relationship is indicated by the sign of the coefficient; a + sign indicates a positive relationship and a – sign indicates a negative relationship. Usually, in statistics, we measure four types of correlations: Pearson correlation, Kendall rank correlation, Spearman correlation, and the Point-Biserial correlation."
   ]
  },
  {
   "cell_type": "markdown",
   "metadata": {},
   "source": [
    "# Berdasarkan korelasi metode Kendall, harga saham tidak memiliki asosiasi yang kuat dengan nilai rata-rata sentimen tweet di Twitter"
   ]
  },
  {
   "cell_type": "markdown",
   "metadata": {},
   "source": [
    "### Cross Validation\n",
    "sumber: https://www.kaggle.com/babbler/cross-validation-considerations"
   ]
  },
  {
   "cell_type": "markdown",
   "metadata": {},
   "source": [
    "##### K-fold Cross Validation"
   ]
  },
  {
   "cell_type": "code",
   "execution_count": 21,
   "metadata": {},
   "outputs": [
    {
     "name": "stdout",
     "output_type": "stream",
     "text": [
      "Sentiment Count: 278\n",
      "Sentiment Distribution:\n",
      " 0.000000    0.446043\n",
      " 0.700000    0.039568\n",
      " 0.350000    0.028777\n",
      " 0.500000    0.021583\n",
      " 0.400000    0.021583\n",
      "               ...   \n",
      " 0.150000    0.003597\n",
      " 0.383333    0.003597\n",
      " 0.106250    0.003597\n",
      " 0.150000    0.003597\n",
      "-0.166667    0.003597\n",
      "Name: polarity, Length: 84, dtype: float64\n"
     ]
    }
   ],
   "source": [
    "#sumber: https://www.kaggle.com/babbler/cross-validation-considerations\n",
    "print(\"Sentiment Count:\", tweet_sentiment['polarity'].size)\n",
    "print(\"Sentiment Distribution:\", tweet_sentiment['polarity'].value_counts(normalize=True), sep='\\n')"
   ]
  },
  {
   "cell_type": "code",
   "execution_count": 22,
   "metadata": {},
   "outputs": [
    {
     "name": "stdout",
     "output_type": "stream",
     "text": [
      "Fold 1 -----\n",
      "Size: 336\n",
      "Sentiment Distribution:\n",
      " 0.000000    0.446043\n",
      " 0.700000    0.039568\n",
      " 0.350000    0.028777\n",
      " 0.500000    0.021583\n",
      " 0.400000    0.021583\n",
      "               ...   \n",
      " 0.150000    0.003597\n",
      " 0.383333    0.003597\n",
      " 0.106250    0.003597\n",
      " 0.150000    0.003597\n",
      "-0.166667    0.003597\n",
      "Name: polarity, Length: 84, dtype: float64\n",
      "\n",
      "Fold 2 -----\n",
      "Size: 336\n",
      "Sentiment Distribution:\n",
      " 0.000000    0.446043\n",
      " 0.700000    0.039568\n",
      " 0.350000    0.028777\n",
      " 0.500000    0.021583\n",
      " 0.400000    0.021583\n",
      "               ...   \n",
      " 0.150000    0.003597\n",
      " 0.383333    0.003597\n",
      " 0.106250    0.003597\n",
      " 0.150000    0.003597\n",
      "-0.166667    0.003597\n",
      "Name: polarity, Length: 84, dtype: float64\n",
      "\n",
      "Fold 3 -----\n",
      "Size: 336\n",
      "Sentiment Distribution:\n",
      " 0.000000    0.446043\n",
      " 0.700000    0.039568\n",
      " 0.350000    0.028777\n",
      " 0.500000    0.021583\n",
      " 0.400000    0.021583\n",
      "               ...   \n",
      " 0.150000    0.003597\n",
      " 0.383333    0.003597\n",
      " 0.106250    0.003597\n",
      " 0.150000    0.003597\n",
      "-0.166667    0.003597\n",
      "Name: polarity, Length: 84, dtype: float64\n",
      "\n",
      "Fold 4 -----\n",
      "Size: 330\n",
      "Sentiment Distribution:\n",
      " 0.000000    0.446043\n",
      " 0.700000    0.039568\n",
      " 0.350000    0.028777\n",
      " 0.500000    0.021583\n",
      " 0.400000    0.021583\n",
      "               ...   \n",
      " 0.150000    0.003597\n",
      " 0.383333    0.003597\n",
      " 0.106250    0.003597\n",
      " 0.150000    0.003597\n",
      "-0.166667    0.003597\n",
      "Name: polarity, Length: 84, dtype: float64\n",
      "\n",
      "Fold 5 -----\n",
      "Size: 330\n",
      "Sentiment Distribution:\n",
      " 0.000000    0.446043\n",
      " 0.700000    0.039568\n",
      " 0.350000    0.028777\n",
      " 0.500000    0.021583\n",
      " 0.400000    0.021583\n",
      "               ...   \n",
      " 0.150000    0.003597\n",
      " 0.383333    0.003597\n",
      " 0.106250    0.003597\n",
      " 0.150000    0.003597\n",
      "-0.166667    0.003597\n",
      "Name: polarity, Length: 84, dtype: float64\n",
      "\n"
     ]
    }
   ],
   "source": [
    "from sklearn.model_selection import StratifiedKFold\n",
    "\n",
    "skf = StratifiedKFold(n_splits=5, shuffle=True, random_state=1)\n",
    "for f, split in enumerate(skf.split(tweet_sentiment, tweet_sentiment['analysis'])):\n",
    "    print(\"Fold\", f + 1, \"-----\")\n",
    "    test = tweet_sentiment.iloc[split[1]]\n",
    "    print(\"Size:\", test.size)\n",
    "    print(\"Sentiment Distribution:\", tweet_sentiment['polarity'].value_counts(normalize=True), \"\", sep='\\n')"
   ]
  },
  {
   "cell_type": "code",
   "execution_count": 23,
   "metadata": {},
   "outputs": [
    {
     "name": "stdout",
     "output_type": "stream",
     "text": [
      "Analysis Positive Sentiment Counts:\n",
      "\n",
      "Fold 1:\n",
      "Positive    24\n",
      "Name: analysis, dtype: int64 \n",
      "\n",
      "Fold 2:\n",
      "Positive    24\n",
      "Name: analysis, dtype: int64 \n",
      "\n",
      "Fold 3:\n",
      "Positive    24\n",
      "Name: analysis, dtype: int64 \n",
      "\n",
      "Fold 4:\n",
      "Positive    24\n",
      "Name: analysis, dtype: int64 \n",
      "\n",
      "Fold 5:\n",
      "Positive    23\n",
      "Name: analysis, dtype: int64 \n",
      "\n"
     ]
    }
   ],
   "source": [
    "Id = \"Positive\"\n",
    "\n",
    "print(\"Analysis\", Id, \"Sentiment Counts:\\n\")\n",
    "for f, split in enumerate(skf.split(tweet_sentiment, tweet_sentiment['analysis'])):\n",
    "    print(\"Fold \", f + 1, \":\", sep='')\n",
    "    test = tweet_sentiment['analysis'].iloc[split[1]]\n",
    "    if Id in test.values:\n",
    "        print(test[test == Id].value_counts(sort=False), \"\\n\")\n",
    "    else:\n",
    "        print(\"None\\n\")\n",
    "    \n",
    "    # use this later\n",
    "    if f == 0:\n",
    "        split1 = split"
   ]
  },
  {
   "cell_type": "code",
   "execution_count": 24,
   "metadata": {
    "scrolled": true
   },
   "outputs": [
    {
     "name": "stdout",
     "output_type": "stream",
     "text": [
      "Train -----\n",
      "Analysis = Positive Counts:\n",
      "Positive    95\n",
      "Name: analysis, dtype: int64\n"
     ]
    },
    {
     "data": {
      "text/plain": [
       "0      Positive\n",
       "1      Positive\n",
       "2      Positive\n",
       "4      Positive\n",
       "6      Positive\n",
       "         ...   \n",
       "247    Positive\n",
       "251    Positive\n",
       "254    Positive\n",
       "271    Positive\n",
       "274    Positive\n",
       "Name: analysis, Length: 95, dtype: object"
      ]
     },
     "metadata": {},
     "output_type": "display_data"
    },
    {
     "name": "stdout",
     "output_type": "stream",
     "text": [
      "Test -----\n",
      "Analysis = Positive Counts:\n",
      "Positive    24\n",
      "Name: analysis, dtype: int64\n"
     ]
    },
    {
     "data": {
      "text/plain": [
       "19     Positive\n",
       "39     Positive\n",
       "66     Positive\n",
       "76     Positive\n",
       "100    Positive\n",
       "110    Positive\n",
       "113    Positive\n",
       "142    Positive\n",
       "146    Positive\n",
       "171    Positive\n",
       "173    Positive\n",
       "186    Positive\n",
       "200    Positive\n",
       "204    Positive\n",
       "214    Positive\n",
       "218    Positive\n",
       "222    Positive\n",
       "231    Positive\n",
       "237    Positive\n",
       "242    Positive\n",
       "244    Positive\n",
       "248    Positive\n",
       "253    Positive\n",
       "261    Positive\n",
       "Name: analysis, dtype: object"
      ]
     },
     "metadata": {},
     "output_type": "display_data"
    }
   ],
   "source": [
    "train = tweet_sentiment.iloc[split1[0]]\n",
    "test = tweet_sentiment.iloc[split1[1]]\n",
    "\n",
    "print(\"Train -----\\nAnalysis =\", Id, \"Counts:\")\n",
    "print(train['analysis'][train['analysis'] == Id].value_counts(sort=False))\n",
    "display(train['analysis'][(train['analysis'] == Id)])\n",
    "\n",
    "print(\"Test -----\\nAnalysis =\", Id, \"Counts:\")\n",
    "print(test['analysis'][test['analysis'] == Id].value_counts(sort=False))\n",
    "display(test['analysis'][(test['analysis'] == Id)])"
   ]
  },
  {
   "cell_type": "markdown",
   "metadata": {},
   "source": [
    "##### Group K-fold Cross Validation"
   ]
  },
  {
   "cell_type": "code",
   "execution_count": 25,
   "metadata": {},
   "outputs": [
    {
     "name": "stdout",
     "output_type": "stream",
     "text": [
      "Analysis Positive Sentiment Counts:\n",
      "\n",
      "Fold 1:\n",
      "None\n",
      "\n",
      "Fold 2:\n",
      "Positive    119\n",
      "Name: analysis, dtype: int64 \n",
      "\n",
      "Fold 3:\n",
      "None\n",
      "\n"
     ]
    }
   ],
   "source": [
    "from sklearn.model_selection import GroupKFold\n",
    "\n",
    "gkf = GroupKFold(n_splits=3)\n",
    "print(\"Analysis\", Id, \"Sentiment Counts:\\n\")\n",
    "for f, split in enumerate(gkf.split(tweet_sentiment, groups=tweet_sentiment['analysis'])):\n",
    "    print(\"Fold \", f + 1, \":\", sep='')\n",
    "    test = tweet_sentiment['analysis'].iloc[split[1]]\n",
    "    if Id in test.values:\n",
    "        print(test[test == Id].value_counts(sort=False), \"\\n\")\n",
    "    else:\n",
    "        print(\"None\\n\")"
   ]
  },
  {
   "cell_type": "code",
   "execution_count": 26,
   "metadata": {
    "scrolled": true
   },
   "outputs": [
    {
     "name": "stdout",
     "output_type": "stream",
     "text": [
      "Fold 1 -----\n",
      "Size: 124\n",
      "Sentiment Distribution:\n",
      "Neutral    1.0\n",
      "Name: analysis, dtype: float64\n",
      "\n",
      "Fold 2 -----\n",
      "Size: 119\n",
      "Sentiment Distribution:\n",
      "Positive    1.0\n",
      "Name: analysis, dtype: float64\n",
      "\n",
      "Fold 3 -----\n",
      "Size: 35\n",
      "Sentiment Distribution:\n",
      "Negative    1.0\n",
      "Name: analysis, dtype: float64\n",
      "\n"
     ]
    }
   ],
   "source": [
    "for f, split in enumerate(gkf.split(tweet_sentiment, groups=tweet_sentiment['analysis'])):\n",
    "    print(\"Fold\", f + 1, \"-----\")\n",
    "    test = tweet_sentiment['analysis'].iloc[split[1]]\n",
    "    print(\"Size:\", test.size)\n",
    "    print(\"Sentiment Distribution:\", test.value_counts(normalize=True), \"\", sep='\\n')"
   ]
  },
  {
   "cell_type": "code",
   "execution_count": 27,
   "metadata": {},
   "outputs": [
    {
     "name": "stdout",
     "output_type": "stream",
     "text": [
      "Fitting 3 folds for each of 11 candidates, totalling 33 fits\n"
     ]
    },
    {
     "name": "stderr",
     "output_type": "stream",
     "text": [
      "[Parallel(n_jobs=1)]: Using backend SequentialBackend with 1 concurrent workers.\n"
     ]
    },
    {
     "name": "stdout",
     "output_type": "stream",
     "text": [
      "Best C: 3.0\n"
     ]
    },
    {
     "name": "stderr",
     "output_type": "stream",
     "text": [
      "[Parallel(n_jobs=1)]: Done  33 out of  33 | elapsed:    2.8s finished\n"
     ]
    }
   ],
   "source": [
    "import nltk\n",
    "import numpy as np\n",
    "\n",
    "from sklearn.feature_extraction.text import TfidfVectorizer\n",
    "from sklearn.linear_model import LogisticRegression\n",
    "from sklearn.model_selection import GridSearchCV\n",
    "from sklearn.pipeline import Pipeline\n",
    "\n",
    "pipeline = Pipeline([\n",
    "    ('tfidf',  TfidfVectorizer()),\n",
    "    ('lr', LogisticRegression())\n",
    "])\n",
    "\n",
    "analyzer = TfidfVectorizer().build_analyzer()\n",
    "stemmer = nltk.stem.SnowballStemmer('english')\n",
    "\n",
    "pipeline.set_params(\n",
    "    tfidf__analyzer=lambda x: (stemmer.stem(w) for w in analyzer(x)),\n",
    "    tfidf__ngram_range=(1,2),\n",
    "    lr__solver='sag',\n",
    "    lr__multi_class='multinomial',\n",
    "    lr__penalty='l2', \n",
    "    lr__tol=0.001, \n",
    "    lr__verbose=False)\n",
    "\n",
    "param_grid = {\n",
    "    'lr__C': np.linspace(1, 3, 11) # I think the value is close to 2 based on previous testing, and want to reduce runtime\n",
    "}\n",
    "\n",
    "gs = GridSearchCV(\n",
    "    pipeline, \n",
    "    param_grid=param_grid,\n",
    "    cv=gkf,\n",
    "    verbose=1,\n",
    "    return_train_score=False)\n",
    "\n",
    "gs.fit(tweet_sentiment['full_text'], y=tweet_sentiment['analysis'], groups=tweet_sentiment['polarity'])\n",
    "print(\"Best C:\", gs.best_params_['lr__C'])"
   ]
  },
  {
   "cell_type": "code",
   "execution_count": 28,
   "metadata": {},
   "outputs": [
    {
     "name": "stdout",
     "output_type": "stream",
     "text": [
      "Running stratified k-fold... done.\n",
      "Running group k-fold... done.\n",
      "\n",
      "Stratified k-fold average accuracy: 0.672922077922078\n",
      "Group k-fold average accuracy: 0.24242424242424243\n"
     ]
    }
   ],
   "source": [
    "from sklearn.model_selection import cross_validate\n",
    "\n",
    "pipeline.set_params(lr__C=gs.best_params_['lr__C'])\n",
    "\n",
    "print(\"Running stratified k-fold...\", end='')\n",
    "skf_results = cross_validate(\n",
    "    pipeline, \n",
    "    X=tweet_sentiment['full_text'], \n",
    "    y=tweet_sentiment['analysis'], \n",
    "    cv=skf, \n",
    "    return_train_score=False, \n",
    "    verbose=False)\n",
    "print(\" done.\")\n",
    "\n",
    "print(\"Running group k-fold...\", end='')\n",
    "gkf_results = cross_validate(\n",
    "    pipeline, \n",
    "    X=tweet_sentiment['full_text'], \n",
    "    y=tweet_sentiment['analysis'], \n",
    "    groups=tweet_sentiment['polarity'], \n",
    "    cv=gkf, \n",
    "    return_train_score=False, \n",
    "    verbose=False)\n",
    "print(\" done.\\n\")\n",
    "\n",
    "print(\"Stratified k-fold average accuracy:\", np.mean(skf_results['test_score']))\n",
    "print(\"Group k-fold average accuracy:\", np.mean(gkf_results['test_score']))"
   ]
  },
  {
   "cell_type": "code",
   "execution_count": 29,
   "metadata": {},
   "outputs": [],
   "source": [
    "test = pandas.read_csv('tweet-clean-labeled3.csv')\n",
    "test_pred = pipeline.fit(tweet_sentiment['full_text'], y=tweet_sentiment['analysis']).predict(test['full_text'])\n",
    "\n",
    "submission = pandas.concat([test['analysis'], pandas.Series(test_pred, name='Sentiment')], axis=1)\n",
    "submission.to_csv('sample_submission.csv', index=False)"
   ]
  },
  {
   "cell_type": "code",
   "execution_count": null,
   "metadata": {},
   "outputs": [],
   "source": []
  }
 ],
 "metadata": {
  "kernelspec": {
   "display_name": "Python 3",
   "language": "python",
   "name": "python3"
  },
  "language_info": {
   "codemirror_mode": {
    "name": "ipython",
    "version": 3
   },
   "file_extension": ".py",
   "mimetype": "text/x-python",
   "name": "python",
   "nbconvert_exporter": "python",
   "pygments_lexer": "ipython3",
   "version": "3.8.3"
  }
 },
 "nbformat": 4,
 "nbformat_minor": 4
}
